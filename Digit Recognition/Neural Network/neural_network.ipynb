{
 "cells": [
  {
   "cell_type": "markdown",
   "metadata": {},
   "source": [
    "# Introduction to Neural Networks\n"
   ]
  },
  {
   "cell_type": "code",
   "execution_count": 29,
   "metadata": {},
   "outputs": [],
   "source": [
    "# Load necessary packages\n",
    "from tensorflow.keras.datasets import mnist\n",
    "from tensorflow.keras.preprocessing.image import load_img, array_to_img\n",
    "from keras.utils.np_utils import to_categorical\n",
    "from tensorflow.keras.models import Sequential\n",
    "from tensorflow.keras.layers import Dense\n",
    "import cv2\n",
    "import numpy as np\n",
    "import matplotlib.pyplot as plt\n",
    "%matplotlib inline"
   ]
  },
  {
   "cell_type": "code",
   "execution_count": 30,
   "metadata": {},
   "outputs": [
    {
     "name": "stdout",
     "output_type": "stream",
     "text": [
      "(60000, 28, 28)\n",
      "(60000,)\n",
      "(10000, 28, 28)\n",
      "(10000,)\n"
     ]
    },
    {
     "data": {
      "text/plain": [
       "(10000,)"
      ]
     },
     "execution_count": 30,
     "metadata": {},
     "output_type": "execute_result"
    }
   ],
   "source": [
    "#Load the data\n",
    "(X_train, y_train), (X_test, y_test)=mnist.load_data()\n",
    "print(X_train.shape)\n",
    "print(y_train.shape)\n",
    "print(X_test.shape)\n",
    "print(y_test.shape)\n",
    "(60000, 28, 28)\n",
    "(60000,)\n",
    "(10000, 28, 28)\n",
    "(10000,)"
   ]
  },
  {
   "cell_type": "code",
   "execution_count": 31,
   "metadata": {},
   "outputs": [
    {
     "data": {
      "text/plain": [
       "<matplotlib.image.AxesImage at 0x265d0e879e8>"
      ]
     },
     "execution_count": 31,
     "metadata": {},
     "output_type": "execute_result"
    },
    {
     "data": {
      "image/png": "[encoded data removed]",
      "text/plain": [
       "<Figure size 432x288 with 1 Axes>"
      ]
     },
     "metadata": {},
     "output_type": "display_data"
    }
   ],
   "source": [
    "# Understanding the image data format\n",
    "plt.imshow(X_train[0],cmap='gray')"
   ]
  },
  {
   "cell_type": "code",
   "execution_count": 32,
   "metadata": {},
   "outputs": [
    {
     "data": {
      "text/plain": [
       "5"
      ]
     },
     "execution_count": 32,
     "metadata": {},
     "output_type": "execute_result"
    }
   ],
   "source": [
    "y_train[0]\n",
    "5"
   ]
  },
  {
   "cell_type": "code",
   "execution_count": 33,
   "metadata": {},
   "outputs": [
    {
     "name": "stdout",
     "output_type": "stream",
     "text": [
      "(60000, 784)\n",
      "(10000, 784)\n",
      "(60000, 10)\n",
      "(10000, 10)\n"
     ]
    },
    {
     "data": {
      "text/plain": [
       "(10000, 10)"
      ]
     },
     "execution_count": 33,
     "metadata": {},
     "output_type": "execute_result"
    }
   ],
   "source": [
    "# Preprocessing the image data\n",
    "image_height,image_width=28,28\n",
    "X_train=X_train.reshape(60000,image_height*image_width)\n",
    "X_test=X_test.reshape(10000,image_height*image_width)\n",
    "print(X_train.shape)\n",
    "print(X_test.shape)\n",
    "(60000, 784)\n",
    "(10000, 784)\n",
    "X_train=X_train.astype('float32')\n",
    "X_test=X_test.astype('float32')\n",
    "X_train/= 255.0\n",
    "X_test/= 255.0\n",
    "y_train=to_categorical(y_train,10)\n",
    "y_test=to_categorical(y_test,10)\n",
    "print(y_train.shape)\n",
    "print(y_test.shape)\n",
    "(60000, 10)\n",
    "(10000, 10)"
   ]
  },
  {
   "cell_type": "code",
   "execution_count": 34,
   "metadata": {},
   "outputs": [
    {
     "name": "stdout",
     "output_type": "stream",
     "text": [
      "_________________________________________________________________\n",
      "Layer (type)                 Output Shape              Param #   \n",
      "=================================================================\n",
      "dense_6 (Dense)              (None, 512)               401920    \n",
      "_________________________________________________________________\n",
      "dense_7 (Dense)              (None, 512)               262656    \n",
      "_________________________________________________________________\n",
      "dense_8 (Dense)              (None, 10)                5130      \n",
      "=================================================================\n",
      "Total params: 669,706\n",
      "Trainable params: 669,706\n",
      "Non-trainable params: 0\n",
      "_________________________________________________________________\n"
     ]
    }
   ],
   "source": [
    "# Build a model\n",
    "model=Sequential()\n",
    "model.add(Dense(512,activation='relu',input_shape=(784,)))\n",
    "model.add(Dense(512,activation='relu'))\n",
    "model.add(Dense(10,activation='softmax'))\n",
    "# Compile the model\n",
    "model.compile(optimizer='adam', loss='categorical_crossentropy', metrics=['accuracy'])\n",
    "model.summary()"
   ]
  },
  {
   "cell_type": "code",
   "execution_count": 35,
   "metadata": {},
   "outputs": [
    {
     "name": "stdout",
     "output_type": "stream",
     "text": [
      "Train on 60000 samples, validate on 10000 samples\n",
      "Epoch 1/20\n",
      "60000/60000 [==============================] - 48s 802us/step - loss: 0.1836 - acc: 0.9441 - val_loss: 0.1174 - val_acc: 0.9621\n",
      "Epoch 2/20\n",
      "60000/60000 [==============================] - 47s 776us/step - loss: 0.0811 - acc: 0.9745 - val_loss: 0.0867 - val_acc: 0.9740\n",
      "Epoch 3/20\n",
      "60000/60000 [==============================] - 38s 632us/step - loss: 0.0555 - acc: 0.9824 - val_loss: 0.0830 - val_acc: 0.9757\n",
      "Epoch 4/20\n",
      "60000/60000 [==============================] - 38s 634us/step - loss: 0.0429 - acc: 0.9860 - val_loss: 0.0896 - val_acc: 0.9771\n",
      "Epoch 5/20\n",
      "60000/60000 [==============================] - 37s 623us/step - loss: 0.0339 - acc: 0.9890 - val_loss: 0.0705 - val_acc: 0.9799\n",
      "Epoch 6/20\n",
      "60000/60000 [==============================] - 41s 685us/step - loss: 0.0296 - acc: 0.9905 - val_loss: 0.0825 - val_acc: 0.9787\n",
      "Epoch 7/20\n",
      "60000/60000 [==============================] - 42s 699us/step - loss: 0.0247 - acc: 0.9923 - val_loss: 0.0887 - val_acc: 0.9787\n",
      "Epoch 8/20\n",
      "60000/60000 [==============================] - 43s 713us/step - loss: 0.0229 - acc: 0.9933 - val_loss: 0.0819 - val_acc: 0.9792\n",
      "Epoch 9/20\n",
      "60000/60000 [==============================] - 40s 672us/step - loss: 0.0199 - acc: 0.9939 - val_loss: 0.0935 - val_acc: 0.9809\n",
      "Epoch 10/20\n",
      "60000/60000 [==============================] - 43s 709us/step - loss: 0.0207 - acc: 0.9941 - val_loss: 0.0906 - val_acc: 0.9812\n",
      "Epoch 11/20\n",
      "60000/60000 [==============================] - 43s 723us/step - loss: 0.0182 - acc: 0.9947 - val_loss: 0.0905 - val_acc: 0.9810\n",
      "Epoch 12/20\n",
      "60000/60000 [==============================] - 42s 692us/step - loss: 0.0160 - acc: 0.9949 - val_loss: 0.0914 - val_acc: 0.9818\n",
      "Epoch 13/20\n",
      "60000/60000 [==============================] - 42s 699us/step - loss: 0.0134 - acc: 0.9960 - val_loss: 0.1349 - val_acc: 0.9779\n",
      "Epoch 14/20\n",
      "60000/60000 [==============================] - 41s 678us/step - loss: 0.0168 - acc: 0.9953 - val_loss: 0.1070 - val_acc: 0.9802\n",
      "Epoch 15/20\n",
      "60000/60000 [==============================] - 41s 675us/step - loss: 0.0144 - acc: 0.9962 - val_loss: 0.1241 - val_acc: 0.9792\n",
      "Epoch 16/20\n",
      "60000/60000 [==============================] - 44s 733us/step - loss: 0.0145 - acc: 0.9962 - val_loss: 0.1163 - val_acc: 0.9800\n",
      "Epoch 17/20\n",
      "60000/60000 [==============================] - 40s 673us/step - loss: 0.0138 - acc: 0.9961 - val_loss: 0.1228 - val_acc: 0.9799\n",
      "Epoch 18/20\n",
      "60000/60000 [==============================] - 40s 669us/step - loss: 0.0128 - acc: 0.9967 - val_loss: 0.1328 - val_acc: 0.9803\n",
      "Epoch 19/20\n",
      "60000/60000 [==============================] - 42s 707us/step - loss: 0.0178 - acc: 0.9959 - val_loss: 0.1172 - val_acc: 0.9820\n",
      "Epoch 20/20\n",
      "60000/60000 [==============================] - 40s 658us/step - loss: 0.0104 - acc: 0.9977 - val_loss: 0.1471 - val_acc: 0.9790\n"
     ]
    }
   ],
   "source": [
    "#Train the model\n",
    "history=model.fit(X_train,y_train,epochs=20,validation_data=(X_test,y_test))"
   ]
  },
  {
   "cell_type": "code",
   "execution_count": 37,
   "metadata": {},
   "outputs": [
    {
     "data": {
      "text/plain": [
       "[<matplotlib.lines.Line2D at 0x265d83037f0>]"
      ]
     },
     "execution_count": 37,
     "metadata": {},
     "output_type": "execute_result"
    },
    {
     "data": {
      "image/png": "[encoded data removed]",
      "text/plain": [
       "<Figure size 432x288 with 1 Axes>"
      ]
     },
     "metadata": {},
     "output_type": "display_data"
    }
   ],
   "source": [
    "#Plot the accuracy of the training model\n",
    "plt.plot(history.history['acc'])\n"
   ]
  },
  {
   "cell_type": "code",
   "execution_count": 38,
   "metadata": {},
   "outputs": [
    {
     "data": {
      "text/plain": [
       "[<matplotlib.lines.Line2D at 0x265d85405f8>]"
      ]
     },
     "execution_count": 38,
     "metadata": {},
     "output_type": "execute_result"
    },
    {
     "data": {
      "image/png": "[encoded data removed]",
      "text/plain": [
       "<Figure size 432x288 with 1 Axes>"
      ]
     },
     "metadata": {},
     "output_type": "display_data"
    }
   ],
   "source": [
    "#Plot the accuracy of training and validation set\n",
    "plt.plot(history.history['acc'])\n",
    "plt.plot(history.history['val_acc'])\n"
   ]
  },
  {
   "cell_type": "code",
   "execution_count": 39,
   "metadata": {},
   "outputs": [
    {
     "name": "stdout",
     "output_type": "stream",
     "text": [
      "10000/10000 [==============================] - 1s 93us/step\n"
     ]
    },
    {
     "data": {
      "text/plain": [
       "[0.14710436482072065, 0.97899999999999998]"
      ]
     },
     "execution_count": 39,
     "metadata": {},
     "output_type": "execute_result"
    }
   ],
   "source": [
    "#Accuracy of training and validation with loss\n",
    "model.evaluate(X_test,y_test)"
   ]
  }
 ],
 "metadata": {
  "kernelspec": {
   "display_name": "Python 3",
   "language": "python",
   "name": "python3"
  }
 },
 "nbformat": 4,
 "nbformat_minor": 2
}
